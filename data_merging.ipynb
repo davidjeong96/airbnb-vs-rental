{
 "cells": [
  {
   "cell_type": "code",
   "execution_count": 112,
   "metadata": {
    "scrolled": true
   },
   "outputs": [],
   "source": [
    "import pandas as pd\n",
    "import os\n",
    "import re"
   ]
  },
  {
   "cell_type": "code",
   "execution_count": 113,
   "metadata": {},
   "outputs": [],
   "source": [
    "onlyfiles = os.listdir(\"zillow/\")"
   ]
  },
  {
   "cell_type": "code",
   "execution_count": 114,
   "metadata": {},
   "outputs": [],
   "source": [
    "df_zillow = pd.DataFrame()\n",
    "counter = 0\n",
    "for i in onlyfiles:\n",
    "    if i.endswith('.csv'):\n",
    "        df = pd.read_csv('zillow/' + i)\n",
    "        df['bedrooms'] = counter / 1.0\n",
    "        counter += 1\n",
    "        df_zillow = df_zillow.append(df)\n",
    "df_zillow = df_zillow[['2019-10', 'RegionName', 'bedrooms']]\n",
    "df_zillow = df_zillow.rename(columns={\"2019-10\": \"rental\", \"RegionName\": \"zipcode\"})"
   ]
  },
  {
   "cell_type": "code",
   "execution_count": 127,
   "metadata": {},
   "outputs": [],
   "source": [
    "df_air = pd.read_csv('airbnb/listings.csv', low_memory=False)"
   ]
  },
  {
   "cell_type": "code",
   "execution_count": 132,
   "metadata": {},
   "outputs": [],
   "source": [
    "df_air = df_air[df_air['bedrooms'] <= 5]\n",
    "df_air = df_air.dropna(subset=['zipcode', 'bedrooms'])\n",
    "df_air['zipcode'] = df_air['zipcode'].str.replace('CA ', '')\n",
    "df_air['zipcode'] = df_air['zipcode'].str.replace('CA', '')\n",
    "df_air = df_air[df_air['zipcode'] != '']\n",
    "df_air['zipcode'] = df_air['zipcode'].astype(int)"
   ]
  },
  {
   "cell_type": "code",
   "execution_count": 143,
   "metadata": {},
   "outputs": [],
   "source": [
    "##pd.merge(df_air, df_zillow, on = ['zipcode', 'bedrooms'])\n",
    "df_final = df_air.merge(df_zillow, on = ['zipcode', 'bedrooms'])"
   ]
  },
  {
   "cell_type": "code",
   "execution_count": 146,
   "metadata": {},
   "outputs": [],
   "source": [
    "df_final.to_csv('merged_dataset.csv', index = False)"
   ]
  },
  {
   "cell_type": "code",
   "execution_count": null,
   "metadata": {},
   "outputs": [],
   "source": []
  }
 ],
 "metadata": {
  "kernelspec": {
   "display_name": "Python 3",
   "language": "python",
   "name": "python3"
  },
  "language_info": {
   "codemirror_mode": {
    "name": "ipython",
    "version": 3
   },
   "file_extension": ".py",
   "mimetype": "text/x-python",
   "name": "python",
   "nbconvert_exporter": "python",
   "pygments_lexer": "ipython3",
   "version": "3.7.4"
  }
 },
 "nbformat": 4,
 "nbformat_minor": 2
}
